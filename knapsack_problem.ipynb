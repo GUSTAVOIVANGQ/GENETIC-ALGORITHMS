{
  "nbformat": 4,
  "nbformat_minor": 0,
  "metadata": {
    "colab": {
      "provenance": [],
      "authorship_tag": "ABX9TyMVRPOVQLdNNolO4cFu4d1U",
      "include_colab_link": true
    },
    "kernelspec": {
      "name": "python3",
      "display_name": "Python 3"
    },
    "language_info": {
      "name": "python"
    }
  },
  "cells": [
    {
      "cell_type": "markdown",
      "metadata": {
        "id": "view-in-github",
        "colab_type": "text"
      },
      "source": [
        "<a href=\"https://colab.research.google.com/github/GUSTAVOIVANGQ/Genetic-algorithms/blob/main/knapsack_problem.ipynb\" target=\"_parent\"><img src=\"https://colab.research.google.com/assets/colab-badge.svg\" alt=\"Open In Colab\"/></a>"
      ]
    },
    {
      "cell_type": "code",
      "execution_count": null,
      "metadata": {
        "colab": {
          "base_uri": "https://localhost:8080/"
        },
        "id": "1BZEF30Cc8Ue",
        "outputId": "5963da5c-c725-4f13-d07d-42461268337c"
      },
      "outputs": [
        {
          "output_type": "stream",
          "name": "stdout",
          "text": [
            "La matriz es:\n",
            "[[ 0.  0.  0.  0.  0.  0.]\n",
            " [ 0.  6.  6.  6.  6.  6.]\n",
            " [ 0.  6. 10. 16. 16. 16.]\n",
            " [ 0.  6. 10. 16. 18. 22.]]\n",
            "Los elementos seleccionados para la mochila son:\n",
            "3\n",
            "2\n"
          ]
        }
      ],
      "source": [
        "# The knapsack problem using numpy\n",
        "import numpy as np\n",
        "v = [6,10,12]\n",
        "w = [1,2,3]\n",
        "W = 5\n",
        "N = len(v)\n",
        "# The zeros knapsack\n",
        "m = np.zeros((N+1,W+1))\n",
        "for row in range(N+1):\n",
        "    for col in range(W+1):\n",
        "      if row == 0 or col == 0:\n",
        "        m[row][col] = 0\n",
        "      elif w[row-1] > col:\n",
        "        m[row][col] = m[row-1][col]\n",
        "      else:\n",
        "        m[row][col] = max(m[row-1][col], m[row-1][col-w[row-1]] + v[row-1])\n",
        "print('La matriz es:')\n",
        "print(m)\n",
        "#Find what items are in the backpack m\n",
        "i = N\n",
        "j = W\n",
        "print('Los elementos seleccionados para la mochila son:')\n",
        "while (i>0 and j>0):\n",
        "  if m[i][j] == m[i-1][j]:\n",
        "    i = i-1\n",
        "  else:\n",
        "    print(i)\n",
        "    j = j-w[i-1]\n",
        "    i = i-1"
      ]
    },
    {
      "cell_type": "code",
      "source": [
        "#The change-making problem\n",
        "coins = [1,2,5]\n",
        "amount = 7\n",
        "d = len(coins)\n",
        "m = np.zeros((d+1,amount+1))\n",
        "\n",
        "#m[1,N]=N\n",
        "#m[i,N]=m[i-1,N]  if di>N\n",
        "#m[i,N] = min ( m[i-1,N] , m[i,N-di] + 1 )\n",
        "\n",
        "for row in range(d+1):\n",
        "    for col in range(amount+1):\n",
        "      if(row == 1):\n",
        "        m[row][col] = col\n",
        "      elif coins[row-1] > col:\n",
        "        m[row][col] = m[row-1][col]\n",
        "      else:\n",
        "        m[row][col] = min(m[row-1][col], m[row][col-coins[row-1]] + 1)\n",
        "print('La matriz es:')\n",
        "print(m)\n",
        "\n",
        "# Finding coins are in the m.\n",
        "i = d\n",
        "j = amount\n",
        "print('Los elementos seleccionados son:')\n",
        "while (i>0 and j>0):\n",
        "  if m[i][j] == m[i-1][j]:\n",
        "    i = i-1\n",
        "  else:\n",
        "    print(coins[i-1])\n",
        "    j = j-coins[i-1]\n",
        "    i = i-1\n",
        "\n"
      ],
      "metadata": {
        "colab": {
          "base_uri": "https://localhost:8080/"
        },
        "id": "o24UcG4X_ign",
        "outputId": "89266b28-fe20-418d-a4a1-7d48168ef201"
      },
      "execution_count": null,
      "outputs": [
        {
          "output_type": "stream",
          "name": "stdout",
          "text": [
            "La matriz es:\n",
            "[[0. 0. 0. 0. 0. 0. 0. 0.]\n",
            " [0. 1. 2. 3. 4. 5. 6. 7.]\n",
            " [0. 1. 1. 2. 2. 3. 3. 4.]\n",
            " [0. 1. 1. 2. 2. 1. 2. 2.]]\n",
            "Los elementos seleccionados son:\n",
            "5\n",
            "2\n"
          ]
        }
      ]
    },
    {
      "cell_type": "markdown",
      "source": [],
      "metadata": {
        "id": "q9n3PgwRSdej"
      }
    }
  ]
}